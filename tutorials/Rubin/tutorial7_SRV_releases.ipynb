{
 "cells": [
  {
   "cell_type": "markdown",
   "metadata": {},
   "source": [
    "# SRV releases\n",
    "\n",
    "Owners: **PatriciaLarsen [@plarsen](https://github.com/LSSTDESC/DC2-analysis/issues/new?body=@patricialarsen)**  \n",
    "Last Verifed to Run: **2024-06-04** (by @plarsen)\n",
    "\n",
    "This notebook details the flags and cuts relevant to the SRV releases for the DP0.2 object catalog. We will discuss the quality flags provided by the Rubin Observatory, and extra ones we choose to apply."
   ]
  },
  {
   "cell_type": "code",
   "execution_count": 2,
   "metadata": {
    "tags": []
   },
   "outputs": [
    {
     "data": {
      "text/html": [
       "<style>\n",
       "  table {margin-left: 0 !important;}\n",
       "</style>\n"
      ],
      "text/plain": [
       "<IPython.core.display.HTML object>"
      ]
     },
     "metadata": {},
     "output_type": "display_data"
    }
   ],
   "source": [
    "%%html\n",
    "<style>\n",
    "  table {margin-left: 0 !important;}\n",
    "</style>"
   ]
  },
  {
   "cell_type": "markdown",
   "metadata": {},
   "source": [
    "### Release notes:\n",
    "\n",
    "The choices for fiducial quality cuts for DESC key analyses will be described and justified below. Currently these are *draft* options for DP0.2, informed by precursor surveys, Rubin advice and our validations.  \n",
    "\n",
    "In the long-term, working groups will likely want to apply slightly different quality cuts depending on their requirements. For instance, [Rau et. al](https://arxiv.org/abs/2406.11950v1) detail a method of significantly reducing the impact of photometric redshift error on cluster mass measurements by removing a small fraction of galaxies from the analysis. Our aim here is to validate and maintain the pre-selections used for key projects, and to give working groups a reasonable data pre-selection and the tools they need to understand how to iterate on this for specific analyses. \n",
    "\n",
    " "
   ]
  },
  {
   "cell_type": "markdown",
   "metadata": {},
   "source": [
    "First we'll detail the LSST flags that are applied. These flag descriptions are taken from the DP0.2 schema, found [here](https://dm.lsst.org/sdm_schemas/browser/dp02.html).\n",
    "\n",
    "\n",
    "## Base LSST flags\n",
    "\n",
    "The detect_isPrimary flag should always be applied to remove artificial objects and boundary duplicates, and the refExtendedness (extendedness in the reference band) should be applied to select for galaxies (or inversely stars). Finally we choose to remove objects which the deblender has skipped as we cannot be sure if they are blended objects.  \n",
    "\n",
    "| Flag name | True/False  | Description   |\n",
    "|:---|:-------------:|:-----------:|\n",
    "| detect_isPrimary | True  | Removes duplicate detections (primarily from coadd edge regions) as well as skyobjects   |\n",
    "| refExtendedness  | 1 (should be ne 0??)    | Source is classified as a galaxy | \n",
    "| deblend_skipped  | False | Removes objects skipped by deblender | \n",
    "\n",
    "\n",
    "### Pixel flags (center)\n",
    "\n",
    "Pixel flags are then applied to remove \"bad\" pixels. Bad pixels are those for which \n",
    "- a cosmic ray may have passed through \n",
    "- the pixel is saturated\n",
    "- the pixel is \"suspect\"\n",
    "- the pixel may have been clipped\n",
    "- the pixel is \"interpolated\"\n",
    "(note to self: add explanations for all of these). \n",
    "\n",
    "The Rubin project provides flags for all of these, both for pixels near the source center and for the source footprint (wider region). We apply all these flags.\n",
    "\n",
    "| Flag name | True/False  | Description   |\n",
    "|:---|:-------------:|:-----------:|\n",
    "| g_pixelFlags_clippedCenter | False  | Center is close to clipped pixel  |\n",
    "| g_pixelFlags_crCenter | False  | Cosmic ray in source center   |\n",
    "| g_pixelFlags_edge | False  | Source outside usable exposure region   |\n",
    "| g_pixelFlags_inexact_psfCenter | False  | Source center close to inexact psf pixels   |\n",
    "| g_pixelFlags_interpolatedCenter | False  | Interpolated pixel in source center   |\n",
    "| g_pixelFlags_offimage | False  | Source center off image   |\n",
    "| g_pixelFlags_saturatedCenter | False  | Saturated pixel in source center   |\n",
    "| g_pixelFlags_sensor_edgeCenter | False  | Source center close to sensor edge pixel   |\n",
    "| g_pixelFlags_suspectCenter | False  | Source center close to suspect pixel   |\n",
    "\n",
    "\n",
    "\n",
    "### Pixel flags (footprint)\n",
    "\n",
    "| Flag name | True/False  | Description   |\n",
    "|:---|:-------------:|:-----------:|\n",
    "| g_pixelFlags_bad | False  | Shows a bad pixel in the source footprint   |\n",
    "| g_pixelFlags_clipped | False  | Footprint includes clipped pixels   |\n",
    "| g_pixelFlags_cr | False  | Cosmic ray in footprint   |\n",
    "| g_pixelFlags_inexact_psf | False  | Source includes inexact psf pixels   |\n",
    "| g_pixelFlags_interpolated | False  | Interpolated pixel in source footprint   |\n",
    "| g_pixelFlags_offimage | False  | Source center off image   |\n",
    "| g_pixelFlags_saturated | False  | Saturated pixel in source footprint   |\n",
    "| g_pixelFlags_sensor_edge | False  | Source footprint includes sensor edge pixel   |\n",
    "| g_pixelFlags_suspect | False  | Source footprint includes suspect pixel   |\n",
    "\n",
    "\n",
    "### Photometry flags\n",
    "\n",
    "Flags are provided for failures of the photometry as follows.\n",
    "\n",
    "We also note that there is plenty of information as to the accuracy of different flux measurements. For stars Rubin recommends use of the _psf_flux version, along with the _pixelFlags_inexact_psfCenter flag.\n",
    "\n",
    "For galaxies, _cModelFlux is recommended for fluxes/magnitudes, and gaap fluxes for colors. They suggest the _gaap1p0Flux (1-arcsec aperture) option, as the optimal aperture seems to fail frequently (as noted in https://dp0-2.lsst.io/data-products-dp0-2/index.html)\n",
    "\n",
    "\n",
    "\n",
    "| Flag | True/False  | Description   |\n",
    "|:---|:-------------:|:-----------:|\n",
    "| i_cModel_flag | False  | Failure of cModel fit   |\n",
    "| i_gaapFlux_flag | False | Failure of gaap flux | \n",
    "\n",
    "### Extra flags\n",
    "\n",
    "| Flag name | True/False  | Description   |\n",
    "|:---|:-------------:|:-----------:|\n",
    "| detect_isIsolated | True  | Removes blended objects |\n",
    "| i_centroid_flag | False  | Failed centroid measurement |\n",
    "\n",
    "\n",
    "### Photometry cuts\n",
    "\n",
    "\n",
    "| Flag | Exact Cut  | Description   |\n",
    "|:---|:-------------:|:-----------:|\n",
    "| cmodel_magnitude | mag(i_cModel_flux)<24.5 *  | Limiting to match spectroscopic training and calibration data   |\n",
    "| cmodel S/N       | cModel_S/N > 10, at least two g/r/z/y S/N > 5       | restricting unforced signal to noise      |\n",
    "| blendedness      | i_blendedness < 10^(-0.375) | removing objects with strong neighbour contamination (not mildly blended objects) | \n",
    "\n",
    "\n",
    "*note: should be after extinction correction but this is unavailable for DP0.2\n",
    "\n",
    "\n",
    "### Shear cuts\n",
    "\n",
    "These are currently being applied to HSM shapes. Once a metadetect catalog is available these are expected to change substantially. These cuts are currently taken from [Mandelbaum et. al 2018](https://academic.oup.com/pasj/article/70/SP1/S25/4774314#431908315)\n",
    "\n",
    "\n",
    "\n",
    "| Flag | Exact Cut  | Description   |\n",
    "|:---|:-------------:|:-----------:|\n",
    "| i_hsmShapeRegauss_sigma | 0 < val < 0.4 | Shape measurement error reasonable (and not NaN)  |\n",
    "| i_hsmShapeRegauss_e | abs(val) < 2 | Absolute distortion cut   |\n",
    "| i_hsmShapeRegauss_res | val > 0.3 | Absolute distortion cut   |\n",
    "| iPSF_flag  | False |  PSF measurement flag | \n",
    "| i_flag     | False |  Shape measurement flag | \n",
    "\n",
    "where hsmShapeRegauss_res is defined in eq 4 of [Mandelbaum et. al 2018](https://academic.oup.com/pasj/article/70/SP1/S25/4774314#431908315) as $1 - T_{PSF}/T_{Image}$, where $T_{PSF} = \\rm{i\\_ixxPSF} + \\rm{i\\_iyyPSF}$ and $T_{Image} = \\rm{i\\_ixx} + \\rm{i\\_iyy}$\n",
    "\n"
   ]
  },
  {
   "cell_type": "code",
   "execution_count": null,
   "metadata": {},
   "outputs": [],
   "source": []
  },
  {
   "cell_type": "markdown",
   "metadata": {},
   "source": []
  },
  {
   "cell_type": "code",
   "execution_count": null,
   "metadata": {},
   "outputs": [],
   "source": []
  },
  {
   "cell_type": "code",
   "execution_count": null,
   "metadata": {},
   "outputs": [],
   "source": []
  },
  {
   "cell_type": "code",
   "execution_count": null,
   "metadata": {},
   "outputs": [],
   "source": []
  }
 ],
 "metadata": {
  "kernelspec": {
   "display_name": "NERSC Python",
   "language": "python",
   "name": "python3"
  },
  "language_info": {
   "codemirror_mode": {
    "name": "ipython",
    "version": 3
   },
   "file_extension": ".py",
   "mimetype": "text/x-python",
   "name": "python",
   "nbconvert_exporter": "python",
   "pygments_lexer": "ipython3",
   "version": "3.11.7"
  }
 },
 "nbformat": 4,
 "nbformat_minor": 4
}
